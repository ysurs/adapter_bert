{
 "cells": [
  {
   "cell_type": "code",
   "execution_count": 1,
   "metadata": {},
   "outputs": [],
   "source": [
    "import torch\n",
    "import torch.nn as nn\n",
    "import torch.nn.functional as F\n",
    "from torch.utils.data import DataLoader"
   ]
  },
  {
   "cell_type": "code",
   "execution_count": 2,
   "metadata": {},
   "outputs": [],
   "source": [
    "%load_ext autoreload\n",
    "%autoreload 2"
   ]
  },
  {
   "cell_type": "code",
   "execution_count": 4,
   "metadata": {},
   "outputs": [],
   "source": [
    "import transformers"
   ]
  },
  {
   "cell_type": "code",
   "execution_count": 5,
   "metadata": {},
   "outputs": [
    {
     "name": "stderr",
     "output_type": "stream",
     "text": [
      "Some weights of the model checkpoint at bert-base-uncased were not used when initializing BertModel: ['cls.predictions.transform.LayerNorm.weight', 'cls.predictions.transform.LayerNorm.bias', 'cls.seq_relationship.weight', 'cls.predictions.transform.dense.bias', 'cls.predictions.bias', 'cls.seq_relationship.bias', 'cls.predictions.decoder.weight', 'cls.predictions.transform.dense.weight']\n",
      "- This IS expected if you are initializing BertModel from the checkpoint of a model trained on another task or with another architecture (e.g. initializing a BertForSequenceClassification model from a BertForPreTraining model).\n",
      "- This IS NOT expected if you are initializing BertModel from the checkpoint of a model that you expect to be exactly identical (initializing a BertForSequenceClassification model from a BertForSequenceClassification model).\n"
     ]
    }
   ],
   "source": [
    "from transformers import BertModel,BertTokenizer\n",
    "# create a BERT model\n",
    "model = BertModel.from_pretrained('bert-base-uncased')\n",
    "tokenizer = BertTokenizer.from_pretrained('bert-base-uncased')\n",
    "\n",
    "# get the list of layers\n",
    "layers = list(model.encoder.layer)"
   ]
  },
  {
   "cell_type": "code",
   "execution_count": 6,
   "metadata": {},
   "outputs": [
    {
     "data": {
      "text/plain": [
       "[BertLayer(\n",
       "   (attention): BertAttention(\n",
       "     (self): BertSelfAttention(\n",
       "       (query): Linear(in_features=768, out_features=768, bias=True)\n",
       "       (key): Linear(in_features=768, out_features=768, bias=True)\n",
       "       (value): Linear(in_features=768, out_features=768, bias=True)\n",
       "       (dropout): Dropout(p=0.1, inplace=False)\n",
       "     )\n",
       "     (output): BertSelfOutput(\n",
       "       (dense): Linear(in_features=768, out_features=768, bias=True)\n",
       "       (LayerNorm): LayerNorm((768,), eps=1e-12, elementwise_affine=True)\n",
       "       (dropout): Dropout(p=0.1, inplace=False)\n",
       "     )\n",
       "   )\n",
       "   (intermediate): BertIntermediate(\n",
       "     (dense): Linear(in_features=768, out_features=3072, bias=True)\n",
       "     (intermediate_act_fn): GELUActivation()\n",
       "   )\n",
       "   (output): BertOutput(\n",
       "     (dense): Linear(in_features=3072, out_features=768, bias=True)\n",
       "     (LayerNorm): LayerNorm((768,), eps=1e-12, elementwise_affine=True)\n",
       "     (dropout): Dropout(p=0.1, inplace=False)\n",
       "   )\n",
       " ),\n",
       " BertLayer(\n",
       "   (attention): BertAttention(\n",
       "     (self): BertSelfAttention(\n",
       "       (query): Linear(in_features=768, out_features=768, bias=True)\n",
       "       (key): Linear(in_features=768, out_features=768, bias=True)\n",
       "       (value): Linear(in_features=768, out_features=768, bias=True)\n",
       "       (dropout): Dropout(p=0.1, inplace=False)\n",
       "     )\n",
       "     (output): BertSelfOutput(\n",
       "       (dense): Linear(in_features=768, out_features=768, bias=True)\n",
       "       (LayerNorm): LayerNorm((768,), eps=1e-12, elementwise_affine=True)\n",
       "       (dropout): Dropout(p=0.1, inplace=False)\n",
       "     )\n",
       "   )\n",
       "   (intermediate): BertIntermediate(\n",
       "     (dense): Linear(in_features=768, out_features=3072, bias=True)\n",
       "     (intermediate_act_fn): GELUActivation()\n",
       "   )\n",
       "   (output): BertOutput(\n",
       "     (dense): Linear(in_features=3072, out_features=768, bias=True)\n",
       "     (LayerNorm): LayerNorm((768,), eps=1e-12, elementwise_affine=True)\n",
       "     (dropout): Dropout(p=0.1, inplace=False)\n",
       "   )\n",
       " ),\n",
       " BertLayer(\n",
       "   (attention): BertAttention(\n",
       "     (self): BertSelfAttention(\n",
       "       (query): Linear(in_features=768, out_features=768, bias=True)\n",
       "       (key): Linear(in_features=768, out_features=768, bias=True)\n",
       "       (value): Linear(in_features=768, out_features=768, bias=True)\n",
       "       (dropout): Dropout(p=0.1, inplace=False)\n",
       "     )\n",
       "     (output): BertSelfOutput(\n",
       "       (dense): Linear(in_features=768, out_features=768, bias=True)\n",
       "       (LayerNorm): LayerNorm((768,), eps=1e-12, elementwise_affine=True)\n",
       "       (dropout): Dropout(p=0.1, inplace=False)\n",
       "     )\n",
       "   )\n",
       "   (intermediate): BertIntermediate(\n",
       "     (dense): Linear(in_features=768, out_features=3072, bias=True)\n",
       "     (intermediate_act_fn): GELUActivation()\n",
       "   )\n",
       "   (output): BertOutput(\n",
       "     (dense): Linear(in_features=3072, out_features=768, bias=True)\n",
       "     (LayerNorm): LayerNorm((768,), eps=1e-12, elementwise_affine=True)\n",
       "     (dropout): Dropout(p=0.1, inplace=False)\n",
       "   )\n",
       " ),\n",
       " BertLayer(\n",
       "   (attention): BertAttention(\n",
       "     (self): BertSelfAttention(\n",
       "       (query): Linear(in_features=768, out_features=768, bias=True)\n",
       "       (key): Linear(in_features=768, out_features=768, bias=True)\n",
       "       (value): Linear(in_features=768, out_features=768, bias=True)\n",
       "       (dropout): Dropout(p=0.1, inplace=False)\n",
       "     )\n",
       "     (output): BertSelfOutput(\n",
       "       (dense): Linear(in_features=768, out_features=768, bias=True)\n",
       "       (LayerNorm): LayerNorm((768,), eps=1e-12, elementwise_affine=True)\n",
       "       (dropout): Dropout(p=0.1, inplace=False)\n",
       "     )\n",
       "   )\n",
       "   (intermediate): BertIntermediate(\n",
       "     (dense): Linear(in_features=768, out_features=3072, bias=True)\n",
       "     (intermediate_act_fn): GELUActivation()\n",
       "   )\n",
       "   (output): BertOutput(\n",
       "     (dense): Linear(in_features=3072, out_features=768, bias=True)\n",
       "     (LayerNorm): LayerNorm((768,), eps=1e-12, elementwise_affine=True)\n",
       "     (dropout): Dropout(p=0.1, inplace=False)\n",
       "   )\n",
       " ),\n",
       " BertLayer(\n",
       "   (attention): BertAttention(\n",
       "     (self): BertSelfAttention(\n",
       "       (query): Linear(in_features=768, out_features=768, bias=True)\n",
       "       (key): Linear(in_features=768, out_features=768, bias=True)\n",
       "       (value): Linear(in_features=768, out_features=768, bias=True)\n",
       "       (dropout): Dropout(p=0.1, inplace=False)\n",
       "     )\n",
       "     (output): BertSelfOutput(\n",
       "       (dense): Linear(in_features=768, out_features=768, bias=True)\n",
       "       (LayerNorm): LayerNorm((768,), eps=1e-12, elementwise_affine=True)\n",
       "       (dropout): Dropout(p=0.1, inplace=False)\n",
       "     )\n",
       "   )\n",
       "   (intermediate): BertIntermediate(\n",
       "     (dense): Linear(in_features=768, out_features=3072, bias=True)\n",
       "     (intermediate_act_fn): GELUActivation()\n",
       "   )\n",
       "   (output): BertOutput(\n",
       "     (dense): Linear(in_features=3072, out_features=768, bias=True)\n",
       "     (LayerNorm): LayerNorm((768,), eps=1e-12, elementwise_affine=True)\n",
       "     (dropout): Dropout(p=0.1, inplace=False)\n",
       "   )\n",
       " ),\n",
       " BertLayer(\n",
       "   (attention): BertAttention(\n",
       "     (self): BertSelfAttention(\n",
       "       (query): Linear(in_features=768, out_features=768, bias=True)\n",
       "       (key): Linear(in_features=768, out_features=768, bias=True)\n",
       "       (value): Linear(in_features=768, out_features=768, bias=True)\n",
       "       (dropout): Dropout(p=0.1, inplace=False)\n",
       "     )\n",
       "     (output): BertSelfOutput(\n",
       "       (dense): Linear(in_features=768, out_features=768, bias=True)\n",
       "       (LayerNorm): LayerNorm((768,), eps=1e-12, elementwise_affine=True)\n",
       "       (dropout): Dropout(p=0.1, inplace=False)\n",
       "     )\n",
       "   )\n",
       "   (intermediate): BertIntermediate(\n",
       "     (dense): Linear(in_features=768, out_features=3072, bias=True)\n",
       "     (intermediate_act_fn): GELUActivation()\n",
       "   )\n",
       "   (output): BertOutput(\n",
       "     (dense): Linear(in_features=3072, out_features=768, bias=True)\n",
       "     (LayerNorm): LayerNorm((768,), eps=1e-12, elementwise_affine=True)\n",
       "     (dropout): Dropout(p=0.1, inplace=False)\n",
       "   )\n",
       " ),\n",
       " BertLayer(\n",
       "   (attention): BertAttention(\n",
       "     (self): BertSelfAttention(\n",
       "       (query): Linear(in_features=768, out_features=768, bias=True)\n",
       "       (key): Linear(in_features=768, out_features=768, bias=True)\n",
       "       (value): Linear(in_features=768, out_features=768, bias=True)\n",
       "       (dropout): Dropout(p=0.1, inplace=False)\n",
       "     )\n",
       "     (output): BertSelfOutput(\n",
       "       (dense): Linear(in_features=768, out_features=768, bias=True)\n",
       "       (LayerNorm): LayerNorm((768,), eps=1e-12, elementwise_affine=True)\n",
       "       (dropout): Dropout(p=0.1, inplace=False)\n",
       "     )\n",
       "   )\n",
       "   (intermediate): BertIntermediate(\n",
       "     (dense): Linear(in_features=768, out_features=3072, bias=True)\n",
       "     (intermediate_act_fn): GELUActivation()\n",
       "   )\n",
       "   (output): BertOutput(\n",
       "     (dense): Linear(in_features=3072, out_features=768, bias=True)\n",
       "     (LayerNorm): LayerNorm((768,), eps=1e-12, elementwise_affine=True)\n",
       "     (dropout): Dropout(p=0.1, inplace=False)\n",
       "   )\n",
       " ),\n",
       " BertLayer(\n",
       "   (attention): BertAttention(\n",
       "     (self): BertSelfAttention(\n",
       "       (query): Linear(in_features=768, out_features=768, bias=True)\n",
       "       (key): Linear(in_features=768, out_features=768, bias=True)\n",
       "       (value): Linear(in_features=768, out_features=768, bias=True)\n",
       "       (dropout): Dropout(p=0.1, inplace=False)\n",
       "     )\n",
       "     (output): BertSelfOutput(\n",
       "       (dense): Linear(in_features=768, out_features=768, bias=True)\n",
       "       (LayerNorm): LayerNorm((768,), eps=1e-12, elementwise_affine=True)\n",
       "       (dropout): Dropout(p=0.1, inplace=False)\n",
       "     )\n",
       "   )\n",
       "   (intermediate): BertIntermediate(\n",
       "     (dense): Linear(in_features=768, out_features=3072, bias=True)\n",
       "     (intermediate_act_fn): GELUActivation()\n",
       "   )\n",
       "   (output): BertOutput(\n",
       "     (dense): Linear(in_features=3072, out_features=768, bias=True)\n",
       "     (LayerNorm): LayerNorm((768,), eps=1e-12, elementwise_affine=True)\n",
       "     (dropout): Dropout(p=0.1, inplace=False)\n",
       "   )\n",
       " ),\n",
       " BertLayer(\n",
       "   (attention): BertAttention(\n",
       "     (self): BertSelfAttention(\n",
       "       (query): Linear(in_features=768, out_features=768, bias=True)\n",
       "       (key): Linear(in_features=768, out_features=768, bias=True)\n",
       "       (value): Linear(in_features=768, out_features=768, bias=True)\n",
       "       (dropout): Dropout(p=0.1, inplace=False)\n",
       "     )\n",
       "     (output): BertSelfOutput(\n",
       "       (dense): Linear(in_features=768, out_features=768, bias=True)\n",
       "       (LayerNorm): LayerNorm((768,), eps=1e-12, elementwise_affine=True)\n",
       "       (dropout): Dropout(p=0.1, inplace=False)\n",
       "     )\n",
       "   )\n",
       "   (intermediate): BertIntermediate(\n",
       "     (dense): Linear(in_features=768, out_features=3072, bias=True)\n",
       "     (intermediate_act_fn): GELUActivation()\n",
       "   )\n",
       "   (output): BertOutput(\n",
       "     (dense): Linear(in_features=3072, out_features=768, bias=True)\n",
       "     (LayerNorm): LayerNorm((768,), eps=1e-12, elementwise_affine=True)\n",
       "     (dropout): Dropout(p=0.1, inplace=False)\n",
       "   )\n",
       " ),\n",
       " BertLayer(\n",
       "   (attention): BertAttention(\n",
       "     (self): BertSelfAttention(\n",
       "       (query): Linear(in_features=768, out_features=768, bias=True)\n",
       "       (key): Linear(in_features=768, out_features=768, bias=True)\n",
       "       (value): Linear(in_features=768, out_features=768, bias=True)\n",
       "       (dropout): Dropout(p=0.1, inplace=False)\n",
       "     )\n",
       "     (output): BertSelfOutput(\n",
       "       (dense): Linear(in_features=768, out_features=768, bias=True)\n",
       "       (LayerNorm): LayerNorm((768,), eps=1e-12, elementwise_affine=True)\n",
       "       (dropout): Dropout(p=0.1, inplace=False)\n",
       "     )\n",
       "   )\n",
       "   (intermediate): BertIntermediate(\n",
       "     (dense): Linear(in_features=768, out_features=3072, bias=True)\n",
       "     (intermediate_act_fn): GELUActivation()\n",
       "   )\n",
       "   (output): BertOutput(\n",
       "     (dense): Linear(in_features=3072, out_features=768, bias=True)\n",
       "     (LayerNorm): LayerNorm((768,), eps=1e-12, elementwise_affine=True)\n",
       "     (dropout): Dropout(p=0.1, inplace=False)\n",
       "   )\n",
       " ),\n",
       " BertLayer(\n",
       "   (attention): BertAttention(\n",
       "     (self): BertSelfAttention(\n",
       "       (query): Linear(in_features=768, out_features=768, bias=True)\n",
       "       (key): Linear(in_features=768, out_features=768, bias=True)\n",
       "       (value): Linear(in_features=768, out_features=768, bias=True)\n",
       "       (dropout): Dropout(p=0.1, inplace=False)\n",
       "     )\n",
       "     (output): BertSelfOutput(\n",
       "       (dense): Linear(in_features=768, out_features=768, bias=True)\n",
       "       (LayerNorm): LayerNorm((768,), eps=1e-12, elementwise_affine=True)\n",
       "       (dropout): Dropout(p=0.1, inplace=False)\n",
       "     )\n",
       "   )\n",
       "   (intermediate): BertIntermediate(\n",
       "     (dense): Linear(in_features=768, out_features=3072, bias=True)\n",
       "     (intermediate_act_fn): GELUActivation()\n",
       "   )\n",
       "   (output): BertOutput(\n",
       "     (dense): Linear(in_features=3072, out_features=768, bias=True)\n",
       "     (LayerNorm): LayerNorm((768,), eps=1e-12, elementwise_affine=True)\n",
       "     (dropout): Dropout(p=0.1, inplace=False)\n",
       "   )\n",
       " ),\n",
       " BertLayer(\n",
       "   (attention): BertAttention(\n",
       "     (self): BertSelfAttention(\n",
       "       (query): Linear(in_features=768, out_features=768, bias=True)\n",
       "       (key): Linear(in_features=768, out_features=768, bias=True)\n",
       "       (value): Linear(in_features=768, out_features=768, bias=True)\n",
       "       (dropout): Dropout(p=0.1, inplace=False)\n",
       "     )\n",
       "     (output): BertSelfOutput(\n",
       "       (dense): Linear(in_features=768, out_features=768, bias=True)\n",
       "       (LayerNorm): LayerNorm((768,), eps=1e-12, elementwise_affine=True)\n",
       "       (dropout): Dropout(p=0.1, inplace=False)\n",
       "     )\n",
       "   )\n",
       "   (intermediate): BertIntermediate(\n",
       "     (dense): Linear(in_features=768, out_features=3072, bias=True)\n",
       "     (intermediate_act_fn): GELUActivation()\n",
       "   )\n",
       "   (output): BertOutput(\n",
       "     (dense): Linear(in_features=3072, out_features=768, bias=True)\n",
       "     (LayerNorm): LayerNorm((768,), eps=1e-12, elementwise_affine=True)\n",
       "     (dropout): Dropout(p=0.1, inplace=False)\n",
       "   )\n",
       " )]"
      ]
     },
     "execution_count": 6,
     "metadata": {},
     "output_type": "execute_result"
    }
   ],
   "source": [
    "layers"
   ]
  },
  {
   "attachments": {},
   "cell_type": "markdown",
   "metadata": {},
   "source": [
    "****\n",
    "## Checking the dataset"
   ]
  },
  {
   "cell_type": "code",
   "execution_count": 7,
   "metadata": {},
   "outputs": [],
   "source": [
    "import pandas as pd\n",
    "\n",
    "cola_dataset=pd.read_csv('/Users/yashsurange/adapter_bert/cola_dataset/raw/in_domain_train.tsv',sep='\\t')\n",
    "cola_dataset.columns=['source','acceptibility','originality','sentence']"
   ]
  },
  {
   "cell_type": "code",
   "execution_count": 7,
   "metadata": {},
   "outputs": [
    {
     "data": {
      "text/html": [
       "<div>\n",
       "<style scoped>\n",
       "    .dataframe tbody tr th:only-of-type {\n",
       "        vertical-align: middle;\n",
       "    }\n",
       "\n",
       "    .dataframe tbody tr th {\n",
       "        vertical-align: top;\n",
       "    }\n",
       "\n",
       "    .dataframe thead th {\n",
       "        text-align: right;\n",
       "    }\n",
       "</style>\n",
       "<table border=\"1\" class=\"dataframe\">\n",
       "  <thead>\n",
       "    <tr style=\"text-align: right;\">\n",
       "      <th></th>\n",
       "      <th>source</th>\n",
       "      <th>acceptibility</th>\n",
       "      <th>originality</th>\n",
       "      <th>sentence</th>\n",
       "    </tr>\n",
       "  </thead>\n",
       "  <tbody>\n",
       "    <tr>\n",
       "      <th>0</th>\n",
       "      <td>gj04</td>\n",
       "      <td>1</td>\n",
       "      <td>NaN</td>\n",
       "      <td>One more pseudo generalization and I'm giving up.</td>\n",
       "    </tr>\n",
       "    <tr>\n",
       "      <th>1</th>\n",
       "      <td>gj04</td>\n",
       "      <td>1</td>\n",
       "      <td>NaN</td>\n",
       "      <td>One more pseudo generalization or I'm giving up.</td>\n",
       "    </tr>\n",
       "    <tr>\n",
       "      <th>2</th>\n",
       "      <td>gj04</td>\n",
       "      <td>1</td>\n",
       "      <td>NaN</td>\n",
       "      <td>The more we study verbs, the crazier they get.</td>\n",
       "    </tr>\n",
       "    <tr>\n",
       "      <th>3</th>\n",
       "      <td>gj04</td>\n",
       "      <td>1</td>\n",
       "      <td>NaN</td>\n",
       "      <td>Day by day the facts are getting murkier.</td>\n",
       "    </tr>\n",
       "    <tr>\n",
       "      <th>4</th>\n",
       "      <td>gj04</td>\n",
       "      <td>1</td>\n",
       "      <td>NaN</td>\n",
       "      <td>I'll fix you a drink.</td>\n",
       "    </tr>\n",
       "  </tbody>\n",
       "</table>\n",
       "</div>"
      ],
      "text/plain": [
       "  source  acceptibility originality  \\\n",
       "0   gj04              1         NaN   \n",
       "1   gj04              1         NaN   \n",
       "2   gj04              1         NaN   \n",
       "3   gj04              1         NaN   \n",
       "4   gj04              1         NaN   \n",
       "\n",
       "                                            sentence  \n",
       "0  One more pseudo generalization and I'm giving up.  \n",
       "1   One more pseudo generalization or I'm giving up.  \n",
       "2     The more we study verbs, the crazier they get.  \n",
       "3          Day by day the facts are getting murkier.  \n",
       "4                              I'll fix you a drink.  "
      ]
     },
     "execution_count": 7,
     "metadata": {},
     "output_type": "execute_result"
    }
   ],
   "source": [
    "cola_dataset.head()"
   ]
  },
  {
   "cell_type": "code",
   "execution_count": 8,
   "metadata": {},
   "outputs": [
    {
     "data": {
      "text/html": [
       "<div>\n",
       "<style scoped>\n",
       "    .dataframe tbody tr th:only-of-type {\n",
       "        vertical-align: middle;\n",
       "    }\n",
       "\n",
       "    .dataframe tbody tr th {\n",
       "        vertical-align: top;\n",
       "    }\n",
       "\n",
       "    .dataframe thead th {\n",
       "        text-align: right;\n",
       "    }\n",
       "</style>\n",
       "<table border=\"1\" class=\"dataframe\">\n",
       "  <thead>\n",
       "    <tr style=\"text-align: right;\">\n",
       "      <th></th>\n",
       "      <th>acceptibility</th>\n",
       "      <th>sentence</th>\n",
       "    </tr>\n",
       "  </thead>\n",
       "  <tbody>\n",
       "    <tr>\n",
       "      <th>0</th>\n",
       "      <td>1</td>\n",
       "      <td>One more pseudo generalization and I'm giving up.</td>\n",
       "    </tr>\n",
       "    <tr>\n",
       "      <th>1</th>\n",
       "      <td>1</td>\n",
       "      <td>One more pseudo generalization or I'm giving up.</td>\n",
       "    </tr>\n",
       "    <tr>\n",
       "      <th>2</th>\n",
       "      <td>1</td>\n",
       "      <td>The more we study verbs, the crazier they get.</td>\n",
       "    </tr>\n",
       "    <tr>\n",
       "      <th>3</th>\n",
       "      <td>1</td>\n",
       "      <td>Day by day the facts are getting murkier.</td>\n",
       "    </tr>\n",
       "    <tr>\n",
       "      <th>4</th>\n",
       "      <td>1</td>\n",
       "      <td>I'll fix you a drink.</td>\n",
       "    </tr>\n",
       "  </tbody>\n",
       "</table>\n",
       "</div>"
      ],
      "text/plain": [
       "   acceptibility                                           sentence\n",
       "0              1  One more pseudo generalization and I'm giving up.\n",
       "1              1   One more pseudo generalization or I'm giving up.\n",
       "2              1     The more we study verbs, the crazier they get.\n",
       "3              1          Day by day the facts are getting murkier.\n",
       "4              1                              I'll fix you a drink."
      ]
     },
     "execution_count": 8,
     "metadata": {},
     "output_type": "execute_result"
    }
   ],
   "source": [
    "cola_dataset[['acceptibility','sentence']].head()"
   ]
  },
  {
   "cell_type": "code",
   "execution_count": 9,
   "metadata": {},
   "outputs": [
    {
     "data": {
      "text/plain": [
       "source                                                       gj04\n",
       "acceptibility                                                   1\n",
       "originality                                                   NaN\n",
       "sentence         One more pseudo generalization or I'm giving up.\n",
       "Name: 1, dtype: object"
      ]
     },
     "execution_count": 9,
     "metadata": {},
     "output_type": "execute_result"
    }
   ],
   "source": [
    "cola_dataset.iloc[1]"
   ]
  },
  {
   "attachments": {},
   "cell_type": "markdown",
   "metadata": {},
   "source": [
    "****\n",
    "## Checking tokenisation done in dataset.py"
   ]
  },
  {
   "cell_type": "code",
   "execution_count": 8,
   "metadata": {},
   "outputs": [],
   "source": [
    "path='/Users/yashsurange/adapter_bert/cola_dataset/raw/in_domain_train.tsv'"
   ]
  },
  {
   "cell_type": "code",
   "execution_count": 9,
   "metadata": {},
   "outputs": [],
   "source": [
    "from dataset import dataset_adapter\n",
    "\n",
    "train_dataset_tokenised=dataset_adapter(path,tokenizer)"
   ]
  },
  {
   "cell_type": "code",
   "execution_count": 10,
   "metadata": {},
   "outputs": [
    {
     "data": {
      "text/html": [
       "<div>\n",
       "<style scoped>\n",
       "    .dataframe tbody tr th:only-of-type {\n",
       "        vertical-align: middle;\n",
       "    }\n",
       "\n",
       "    .dataframe tbody tr th {\n",
       "        vertical-align: top;\n",
       "    }\n",
       "\n",
       "    .dataframe thead th {\n",
       "        text-align: right;\n",
       "    }\n",
       "</style>\n",
       "<table border=\"1\" class=\"dataframe\">\n",
       "  <thead>\n",
       "    <tr style=\"text-align: right;\">\n",
       "      <th></th>\n",
       "      <th>acceptibility</th>\n",
       "      <th>sentence</th>\n",
       "    </tr>\n",
       "  </thead>\n",
       "  <tbody>\n",
       "    <tr>\n",
       "      <th>0</th>\n",
       "      <td>1</td>\n",
       "      <td>Our friends won't buy this analysis, let alone...</td>\n",
       "    </tr>\n",
       "    <tr>\n",
       "      <th>1</th>\n",
       "      <td>1</td>\n",
       "      <td>One more pseudo generalization and I'm giving up.</td>\n",
       "    </tr>\n",
       "    <tr>\n",
       "      <th>2</th>\n",
       "      <td>1</td>\n",
       "      <td>One more pseudo generalization or I'm giving up.</td>\n",
       "    </tr>\n",
       "    <tr>\n",
       "      <th>3</th>\n",
       "      <td>1</td>\n",
       "      <td>The more we study verbs, the crazier they get.</td>\n",
       "    </tr>\n",
       "    <tr>\n",
       "      <th>4</th>\n",
       "      <td>1</td>\n",
       "      <td>Day by day the facts are getting murkier.</td>\n",
       "    </tr>\n",
       "  </tbody>\n",
       "</table>\n",
       "</div>"
      ],
      "text/plain": [
       "   acceptibility                                           sentence\n",
       "0              1  Our friends won't buy this analysis, let alone...\n",
       "1              1  One more pseudo generalization and I'm giving up.\n",
       "2              1   One more pseudo generalization or I'm giving up.\n",
       "3              1     The more we study verbs, the crazier they get.\n",
       "4              1          Day by day the facts are getting murkier."
      ]
     },
     "execution_count": 10,
     "metadata": {},
     "output_type": "execute_result"
    }
   ],
   "source": [
    "train_dataset_tokenised.data.head()"
   ]
  },
  {
   "cell_type": "code",
   "execution_count": null,
   "metadata": {},
   "outputs": [
    {
     "data": {
      "text/plain": [
       "tensor([[  101,  2256,  2814,  2180,  1005,  1056,  4965,  2023,  4106,  1010,\n",
       "          2292,  2894,  1996,  2279,  2028,  2057, 16599,  1012,   102,     0]])"
      ]
     },
     "execution_count": 14,
     "metadata": {},
     "output_type": "execute_result"
    }
   ],
   "source": [
    "# When max length is kept at 20. We can see padding i.e padding with zeros \n",
    "train_dataset_tokenised.__getitem__(0)['sentence']['input_ids']"
   ]
  },
  {
   "cell_type": "code",
   "execution_count": 12,
   "metadata": {},
   "outputs": [
    {
     "data": {
      "text/plain": [
       "{'acceptibility': 1,\n",
       " 'input_ids': tensor([[ 101, 2256, 2814, 2180, 1005, 1056, 4965, 2023, 4106, 1010, 2292, 2894,\n",
       "          1996, 2279,  102]]),\n",
       " 'token_type_ids': tensor([[0, 0, 0, 0, 0, 0, 0, 0, 0, 0, 0, 0, 0, 0, 0]]),\n",
       " 'attention_mask': tensor([[1, 1, 1, 1, 1, 1, 1, 1, 1, 1, 1, 1, 1, 1, 1]])}"
      ]
     },
     "execution_count": 12,
     "metadata": {},
     "output_type": "execute_result"
    }
   ],
   "source": [
    "# Current implementation of getitem function. The max length has been fixed at 15\n",
    "train_dataset_tokenised.__getitem__(0)"
   ]
  },
  {
   "cell_type": "code",
   "execution_count": null,
   "metadata": {},
   "outputs": [
    {
     "data": {
      "text/plain": [
       "['[CLS]',\n",
       " 'the',\n",
       " 'more',\n",
       " 'we',\n",
       " 'study',\n",
       " 'verbs',\n",
       " ',',\n",
       " 'the',\n",
       " 'cr',\n",
       " '##azi',\n",
       " '##er',\n",
       " 'they',\n",
       " 'get',\n",
       " '.',\n",
       " '[SEP]',\n",
       " '[PAD]',\n",
       " '[PAD]',\n",
       " '[PAD]',\n",
       " '[PAD]',\n",
       " '[PAD]']"
      ]
     },
     "execution_count": 15,
     "metadata": {},
     "output_type": "execute_result"
    }
   ],
   "source": [
    "# From token ids to tokens\n",
    "train_dataset_tokenised.tokenizer.convert_ids_to_tokens(train_dataset_tokenised.__getitem__(3)['sentence']['input_ids'].reshape([-1]))"
   ]
  },
  {
   "attachments": {},
   "cell_type": "markdown",
   "metadata": {},
   "source": [
    "****"
   ]
  },
  {
   "attachments": {},
   "cell_type": "markdown",
   "metadata": {},
   "source": [
    "### Understanding how to extract the last hidden state"
   ]
  },
  {
   "cell_type": "code",
   "execution_count": 20,
   "metadata": {},
   "outputs": [],
   "source": [
    "## Experimenting with engine.py file\n",
    "\n",
    "from engine import BertClassifier"
   ]
  },
  {
   "cell_type": "code",
   "execution_count": 21,
   "metadata": {},
   "outputs": [
    {
     "name": "stderr",
     "output_type": "stream",
     "text": [
      "Some weights of the model checkpoint at bert-base-uncased were not used when initializing BertModel: ['cls.predictions.transform.dense.weight', 'cls.predictions.transform.LayerNorm.weight', 'cls.predictions.transform.LayerNorm.bias', 'cls.predictions.bias', 'cls.predictions.decoder.weight', 'cls.seq_relationship.bias', 'cls.seq_relationship.weight', 'cls.predictions.transform.dense.bias']\n",
      "- This IS expected if you are initializing BertModel from the checkpoint of a model trained on another task or with another architecture (e.g. initializing a BertForSequenceClassification model from a BertForPreTraining model).\n",
      "- This IS NOT expected if you are initializing BertModel from the checkpoint of a model that you expect to be exactly identical (initializing a BertForSequenceClassification model from a BertForSequenceClassification model).\n",
      "Some weights of BertModel were not initialized from the model checkpoint at bert-base-uncased and are newly initialized: ['bert.encoder.layer.2.output.adapter_module.linear_up_projection.weight', 'bert.encoder.layer.1.attention.output.adapter_module.linear_down_projection.bias', 'bert.encoder.layer.6.attention.output.adapter_module.linear_up_projection.bias', 'bert.encoder.layer.4.output.adapter_module.linear_down_projection.weight', 'bert.encoder.layer.10.output.adapter_module.linear_down_projection.weight', 'bert.encoder.layer.6.output.adapter_module.linear_up_projection.bias', 'bert.encoder.layer.1.output.adapter_module.linear_down_projection.bias', 'bert.encoder.layer.5.attention.output.adapter_module.linear_up_projection.weight', 'bert.encoder.layer.2.attention.output.adapter_module.linear_up_projection.weight', 'bert.encoder.layer.2.attention.output.adapter_module.linear_up_projection.bias', 'bert.encoder.layer.3.attention.output.adapter_module.linear_down_projection.bias', 'bert.encoder.layer.1.attention.output.adapter_module.linear_down_projection.weight', 'bert.encoder.layer.9.output.adapter_module.linear_down_projection.weight', 'bert.encoder.layer.9.output.adapter_module.linear_down_projection.bias', 'bert.encoder.layer.9.attention.output.adapter_module.linear_down_projection.bias', 'bert.encoder.layer.4.attention.output.adapter_module.linear_down_projection.bias', 'bert.encoder.layer.10.output.adapter_module.linear_up_projection.bias', 'bert.encoder.layer.0.attention.output.adapter_module.linear_down_projection.bias', 'bert.encoder.layer.8.output.adapter_module.linear_down_projection.bias', 'bert.encoder.layer.0.output.adapter_module.linear_down_projection.weight', 'bert.encoder.layer.5.output.adapter_module.linear_down_projection.bias', 'bert.encoder.layer.7.output.adapter_module.linear_down_projection.bias', 'bert.encoder.layer.1.output.adapter_module.linear_up_projection.bias', 'bert.encoder.layer.5.output.adapter_module.linear_up_projection.weight', 'bert.encoder.layer.7.attention.output.adapter_module.linear_up_projection.weight', 'bert.encoder.layer.0.output.adapter_module.linear_up_projection.weight', 'bert.encoder.layer.11.output.adapter_module.linear_up_projection.weight', 'bert.encoder.layer.7.output.adapter_module.linear_up_projection.bias', 'bert.encoder.layer.4.attention.output.adapter_module.linear_down_projection.weight', 'bert.encoder.layer.3.output.adapter_module.linear_down_projection.bias', 'bert.encoder.layer.9.output.adapter_module.linear_up_projection.weight', 'bert.encoder.layer.10.attention.output.adapter_module.linear_up_projection.bias', 'bert.encoder.layer.1.attention.output.adapter_module.linear_up_projection.weight', 'bert.encoder.layer.5.attention.output.adapter_module.linear_up_projection.bias', 'bert.encoder.layer.11.output.adapter_module.linear_down_projection.bias', 'bert.encoder.layer.2.output.adapter_module.linear_down_projection.bias', 'bert.encoder.layer.4.attention.output.adapter_module.linear_up_projection.weight', 'bert.encoder.layer.2.attention.output.adapter_module.linear_down_projection.bias', 'bert.encoder.layer.7.attention.output.adapter_module.linear_down_projection.weight', 'bert.encoder.layer.7.output.adapter_module.linear_down_projection.weight', 'bert.encoder.layer.8.attention.output.adapter_module.linear_down_projection.weight', 'bert.encoder.layer.5.output.adapter_module.linear_up_projection.bias', 'bert.encoder.layer.11.output.adapter_module.linear_up_projection.bias', 'bert.encoder.layer.0.attention.output.adapter_module.linear_up_projection.bias', 'bert.encoder.layer.7.attention.output.adapter_module.linear_up_projection.bias', 'bert.encoder.layer.8.attention.output.adapter_module.linear_up_projection.weight', 'bert.encoder.layer.6.output.adapter_module.linear_down_projection.bias', 'bert.encoder.layer.11.output.adapter_module.linear_down_projection.weight', 'bert.encoder.layer.0.attention.output.adapter_module.linear_down_projection.weight', 'bert.encoder.layer.11.attention.output.adapter_module.linear_up_projection.weight', 'bert.encoder.layer.10.attention.output.adapter_module.linear_down_projection.weight', 'bert.encoder.layer.5.attention.output.adapter_module.linear_down_projection.bias', 'bert.encoder.layer.4.attention.output.adapter_module.linear_up_projection.bias', 'bert.encoder.layer.11.attention.output.adapter_module.linear_up_projection.bias', 'bert.encoder.layer.3.attention.output.adapter_module.linear_down_projection.weight', 'bert.encoder.layer.1.output.adapter_module.linear_up_projection.weight', 'bert.encoder.layer.4.output.adapter_module.linear_down_projection.bias', 'bert.encoder.layer.8.output.adapter_module.linear_up_projection.bias', 'bert.encoder.layer.8.attention.output.adapter_module.linear_down_projection.bias', 'bert.encoder.layer.7.output.adapter_module.linear_up_projection.weight', 'bert.encoder.layer.3.output.adapter_module.linear_down_projection.weight', 'bert.encoder.layer.10.attention.output.adapter_module.linear_down_projection.bias', 'bert.encoder.layer.6.output.adapter_module.linear_down_projection.weight', 'bert.encoder.layer.1.output.adapter_module.linear_down_projection.weight', 'bert.encoder.layer.8.attention.output.adapter_module.linear_up_projection.bias', 'bert.encoder.layer.10.output.adapter_module.linear_down_projection.bias', 'bert.encoder.layer.9.attention.output.adapter_module.linear_up_projection.bias', 'bert.encoder.layer.7.attention.output.adapter_module.linear_down_projection.bias', 'bert.encoder.layer.1.attention.output.adapter_module.linear_up_projection.bias', 'bert.encoder.layer.11.attention.output.adapter_module.linear_down_projection.bias', 'bert.encoder.layer.5.attention.output.adapter_module.linear_down_projection.weight', 'bert.encoder.layer.2.output.adapter_module.linear_up_projection.bias', 'bert.encoder.layer.0.output.adapter_module.linear_up_projection.bias', 'bert.encoder.layer.9.output.adapter_module.linear_up_projection.bias', 'bert.encoder.layer.0.output.adapter_module.linear_down_projection.bias', 'bert.encoder.layer.2.output.adapter_module.linear_down_projection.weight', 'bert.encoder.layer.10.attention.output.adapter_module.linear_up_projection.weight', 'bert.encoder.layer.3.output.adapter_module.linear_up_projection.bias', 'bert.encoder.layer.3.attention.output.adapter_module.linear_up_projection.bias', 'bert.encoder.layer.2.attention.output.adapter_module.linear_down_projection.weight', 'bert.encoder.layer.6.output.adapter_module.linear_up_projection.weight', 'bert.encoder.layer.11.attention.output.adapter_module.linear_down_projection.weight', 'bert.encoder.layer.9.attention.output.adapter_module.linear_down_projection.weight', 'bert.encoder.layer.3.output.adapter_module.linear_up_projection.weight', 'bert.encoder.layer.5.output.adapter_module.linear_down_projection.weight', 'bert.encoder.layer.9.attention.output.adapter_module.linear_up_projection.weight', 'bert.encoder.layer.4.output.adapter_module.linear_up_projection.weight', 'bert.encoder.layer.0.attention.output.adapter_module.linear_up_projection.weight', 'bert.encoder.layer.10.output.adapter_module.linear_up_projection.weight', 'bert.encoder.layer.3.attention.output.adapter_module.linear_up_projection.weight', 'bert.encoder.layer.6.attention.output.adapter_module.linear_down_projection.bias', 'bert.encoder.layer.6.attention.output.adapter_module.linear_down_projection.weight', 'bert.encoder.layer.6.attention.output.adapter_module.linear_up_projection.weight', 'bert.encoder.layer.8.output.adapter_module.linear_up_projection.weight', 'bert.encoder.layer.8.output.adapter_module.linear_down_projection.weight', 'bert.encoder.layer.4.output.adapter_module.linear_up_projection.bias']\n",
      "You should probably TRAIN this model on a down-stream task to be able to use it for predictions and inference.\n"
     ]
    }
   ],
   "source": [
    "testing_bertclassifier=BertClassifier(10)"
   ]
  },
  {
   "cell_type": "code",
   "execution_count": null,
   "metadata": {},
   "outputs": [],
   "source": [
    "state=testing_bertclassifier(train_dataset_tokenised.__getitem__(0)['input_ids'])"
   ]
  },
  {
   "cell_type": "code",
   "execution_count": 36,
   "metadata": {},
   "outputs": [
    {
     "data": {
      "text/plain": [
       "torch.Size([1, 15, 768])"
      ]
     },
     "execution_count": 36,
     "metadata": {},
     "output_type": "execute_result"
    }
   ],
   "source": [
    "# Accessing the last hidden state\n",
    "# Since we passed a sequence of 15 tokens, we get a contextual representation of each of those tokens.\n",
    "# Size of the representation is 768\n",
    "state.last_hidden_state.shape"
   ]
  },
  {
   "cell_type": "code",
   "execution_count": 38,
   "metadata": {},
   "outputs": [
    {
     "data": {
      "text/plain": [
       "torch.Size([768])"
      ]
     },
     "execution_count": 38,
     "metadata": {},
     "output_type": "execute_result"
    }
   ],
   "source": [
    "# We have extracted the representations of the first token i.e is CLS token.\n",
    "state.last_hidden_state[0,0,:].shape"
   ]
  },
  {
   "attachments": {},
   "cell_type": "markdown",
   "metadata": {},
   "source": [
    "****\n",
    "### Checking the trainer\n",
    "\n"
   ]
  },
  {
   "cell_type": "code",
   "execution_count": 3,
   "metadata": {},
   "outputs": [],
   "source": [
    "from train import Trainer"
   ]
  },
  {
   "cell_type": "code",
   "execution_count": 4,
   "metadata": {},
   "outputs": [
    {
     "name": "stderr",
     "output_type": "stream",
     "text": [
      "Some weights of the model checkpoint at bert-base-uncased were not used when initializing BertModel: ['cls.predictions.transform.dense.weight', 'cls.predictions.transform.LayerNorm.weight', 'cls.predictions.transform.LayerNorm.bias', 'cls.predictions.bias', 'cls.predictions.decoder.weight', 'cls.seq_relationship.bias', 'cls.seq_relationship.weight', 'cls.predictions.transform.dense.bias']\n",
      "- This IS expected if you are initializing BertModel from the checkpoint of a model trained on another task or with another architecture (e.g. initializing a BertForSequenceClassification model from a BertForPreTraining model).\n",
      "- This IS NOT expected if you are initializing BertModel from the checkpoint of a model that you expect to be exactly identical (initializing a BertForSequenceClassification model from a BertForSequenceClassification model).\n",
      "Some weights of BertModel were not initialized from the model checkpoint at bert-base-uncased and are newly initialized: ['bert.encoder.layer.2.output.adapter_module.linear_up_projection.weight', 'bert.encoder.layer.1.attention.output.adapter_module.linear_down_projection.bias', 'bert.encoder.layer.6.attention.output.adapter_module.linear_up_projection.bias', 'bert.encoder.layer.4.output.adapter_module.linear_down_projection.weight', 'bert.encoder.layer.10.output.adapter_module.linear_down_projection.weight', 'bert.encoder.layer.6.output.adapter_module.linear_up_projection.bias', 'bert.encoder.layer.1.output.adapter_module.linear_down_projection.bias', 'bert.encoder.layer.5.attention.output.adapter_module.linear_up_projection.weight', 'bert.encoder.layer.2.attention.output.adapter_module.linear_up_projection.weight', 'bert.encoder.layer.2.attention.output.adapter_module.linear_up_projection.bias', 'bert.encoder.layer.3.attention.output.adapter_module.linear_down_projection.bias', 'bert.encoder.layer.1.attention.output.adapter_module.linear_down_projection.weight', 'bert.encoder.layer.9.output.adapter_module.linear_down_projection.weight', 'bert.encoder.layer.9.output.adapter_module.linear_down_projection.bias', 'bert.encoder.layer.9.attention.output.adapter_module.linear_down_projection.bias', 'bert.encoder.layer.4.attention.output.adapter_module.linear_down_projection.bias', 'bert.encoder.layer.10.output.adapter_module.linear_up_projection.bias', 'bert.encoder.layer.0.attention.output.adapter_module.linear_down_projection.bias', 'bert.encoder.layer.8.output.adapter_module.linear_down_projection.bias', 'bert.encoder.layer.0.output.adapter_module.linear_down_projection.weight', 'bert.encoder.layer.5.output.adapter_module.linear_down_projection.bias', 'bert.encoder.layer.7.output.adapter_module.linear_down_projection.bias', 'bert.encoder.layer.1.output.adapter_module.linear_up_projection.bias', 'bert.encoder.layer.5.output.adapter_module.linear_up_projection.weight', 'bert.encoder.layer.7.attention.output.adapter_module.linear_up_projection.weight', 'bert.encoder.layer.0.output.adapter_module.linear_up_projection.weight', 'bert.encoder.layer.11.output.adapter_module.linear_up_projection.weight', 'bert.encoder.layer.7.output.adapter_module.linear_up_projection.bias', 'bert.encoder.layer.4.attention.output.adapter_module.linear_down_projection.weight', 'bert.encoder.layer.3.output.adapter_module.linear_down_projection.bias', 'bert.encoder.layer.9.output.adapter_module.linear_up_projection.weight', 'bert.encoder.layer.10.attention.output.adapter_module.linear_up_projection.bias', 'bert.encoder.layer.1.attention.output.adapter_module.linear_up_projection.weight', 'bert.encoder.layer.5.attention.output.adapter_module.linear_up_projection.bias', 'bert.encoder.layer.11.output.adapter_module.linear_down_projection.bias', 'bert.encoder.layer.2.output.adapter_module.linear_down_projection.bias', 'bert.encoder.layer.4.attention.output.adapter_module.linear_up_projection.weight', 'bert.encoder.layer.2.attention.output.adapter_module.linear_down_projection.bias', 'bert.encoder.layer.7.attention.output.adapter_module.linear_down_projection.weight', 'bert.encoder.layer.7.output.adapter_module.linear_down_projection.weight', 'bert.encoder.layer.8.attention.output.adapter_module.linear_down_projection.weight', 'bert.encoder.layer.5.output.adapter_module.linear_up_projection.bias', 'bert.encoder.layer.11.output.adapter_module.linear_up_projection.bias', 'bert.encoder.layer.0.attention.output.adapter_module.linear_up_projection.bias', 'bert.encoder.layer.7.attention.output.adapter_module.linear_up_projection.bias', 'bert.encoder.layer.8.attention.output.adapter_module.linear_up_projection.weight', 'bert.encoder.layer.6.output.adapter_module.linear_down_projection.bias', 'bert.encoder.layer.11.output.adapter_module.linear_down_projection.weight', 'bert.encoder.layer.0.attention.output.adapter_module.linear_down_projection.weight', 'bert.encoder.layer.11.attention.output.adapter_module.linear_up_projection.weight', 'bert.encoder.layer.10.attention.output.adapter_module.linear_down_projection.weight', 'bert.encoder.layer.5.attention.output.adapter_module.linear_down_projection.bias', 'bert.encoder.layer.4.attention.output.adapter_module.linear_up_projection.bias', 'bert.encoder.layer.11.attention.output.adapter_module.linear_up_projection.bias', 'bert.encoder.layer.3.attention.output.adapter_module.linear_down_projection.weight', 'bert.encoder.layer.1.output.adapter_module.linear_up_projection.weight', 'bert.encoder.layer.4.output.adapter_module.linear_down_projection.bias', 'bert.encoder.layer.8.output.adapter_module.linear_up_projection.bias', 'bert.encoder.layer.8.attention.output.adapter_module.linear_down_projection.bias', 'bert.encoder.layer.7.output.adapter_module.linear_up_projection.weight', 'bert.encoder.layer.3.output.adapter_module.linear_down_projection.weight', 'bert.encoder.layer.10.attention.output.adapter_module.linear_down_projection.bias', 'bert.encoder.layer.6.output.adapter_module.linear_down_projection.weight', 'bert.encoder.layer.1.output.adapter_module.linear_down_projection.weight', 'bert.encoder.layer.8.attention.output.adapter_module.linear_up_projection.bias', 'bert.encoder.layer.10.output.adapter_module.linear_down_projection.bias', 'bert.encoder.layer.9.attention.output.adapter_module.linear_up_projection.bias', 'bert.encoder.layer.7.attention.output.adapter_module.linear_down_projection.bias', 'bert.encoder.layer.1.attention.output.adapter_module.linear_up_projection.bias', 'bert.encoder.layer.11.attention.output.adapter_module.linear_down_projection.bias', 'bert.encoder.layer.5.attention.output.adapter_module.linear_down_projection.weight', 'bert.encoder.layer.2.output.adapter_module.linear_up_projection.bias', 'bert.encoder.layer.0.output.adapter_module.linear_up_projection.bias', 'bert.encoder.layer.9.output.adapter_module.linear_up_projection.bias', 'bert.encoder.layer.0.output.adapter_module.linear_down_projection.bias', 'bert.encoder.layer.2.output.adapter_module.linear_down_projection.weight', 'bert.encoder.layer.10.attention.output.adapter_module.linear_up_projection.weight', 'bert.encoder.layer.3.output.adapter_module.linear_up_projection.bias', 'bert.encoder.layer.3.attention.output.adapter_module.linear_up_projection.bias', 'bert.encoder.layer.2.attention.output.adapter_module.linear_down_projection.weight', 'bert.encoder.layer.6.output.adapter_module.linear_up_projection.weight', 'bert.encoder.layer.11.attention.output.adapter_module.linear_down_projection.weight', 'bert.encoder.layer.9.attention.output.adapter_module.linear_down_projection.weight', 'bert.encoder.layer.3.output.adapter_module.linear_up_projection.weight', 'bert.encoder.layer.5.output.adapter_module.linear_down_projection.weight', 'bert.encoder.layer.9.attention.output.adapter_module.linear_up_projection.weight', 'bert.encoder.layer.4.output.adapter_module.linear_up_projection.weight', 'bert.encoder.layer.0.attention.output.adapter_module.linear_up_projection.weight', 'bert.encoder.layer.10.output.adapter_module.linear_up_projection.weight', 'bert.encoder.layer.3.attention.output.adapter_module.linear_up_projection.weight', 'bert.encoder.layer.6.attention.output.adapter_module.linear_down_projection.bias', 'bert.encoder.layer.6.attention.output.adapter_module.linear_down_projection.weight', 'bert.encoder.layer.6.attention.output.adapter_module.linear_up_projection.weight', 'bert.encoder.layer.8.output.adapter_module.linear_up_projection.weight', 'bert.encoder.layer.8.output.adapter_module.linear_down_projection.weight', 'bert.encoder.layer.4.output.adapter_module.linear_up_projection.bias']\n",
      "You should probably TRAIN this model on a down-stream task to be able to use it for predictions and inference.\n",
      "Failed to detect the name of this notebook, you can set it manually with the WANDB_NOTEBOOK_NAME environment variable to enable code saving.\n",
      "\u001b[34m\u001b[1mwandb\u001b[0m: Currently logged in as: \u001b[33myours\u001b[0m. Use \u001b[1m`wandb login --relogin`\u001b[0m to force relogin\n"
     ]
    },
    {
     "data": {
      "text/html": [
       "wandb version 0.14.2 is available!  To upgrade, please run:\n",
       " $ pip install wandb --upgrade"
      ],
      "text/plain": [
       "<IPython.core.display.HTML object>"
      ]
     },
     "metadata": {},
     "output_type": "display_data"
    },
    {
     "data": {
      "text/html": [
       "Tracking run with wandb version 0.14.1"
      ],
      "text/plain": [
       "<IPython.core.display.HTML object>"
      ]
     },
     "metadata": {},
     "output_type": "display_data"
    },
    {
     "data": {
      "text/html": [
       "Run data is saved locally in <code>/Users/yashsurange/adapter_bert/wandb/run-20230408_131750-53ovxi3a</code>"
      ],
      "text/plain": [
       "<IPython.core.display.HTML object>"
      ]
     },
     "metadata": {},
     "output_type": "display_data"
    },
    {
     "data": {
      "text/html": [
       "Syncing run <strong><a href='https://wandb.ai/yours/c4ai-adapter-bert/runs/53ovxi3a' target=\"_blank\">soft-feather-2</a></strong> to <a href='https://wandb.ai/yours/c4ai-adapter-bert' target=\"_blank\">Weights & Biases</a> (<a href='https://wandb.me/run' target=\"_blank\">docs</a>)<br/>"
      ],
      "text/plain": [
       "<IPython.core.display.HTML object>"
      ]
     },
     "metadata": {},
     "output_type": "display_data"
    },
    {
     "data": {
      "text/html": [
       " View project at <a href='https://wandb.ai/yours/c4ai-adapter-bert' target=\"_blank\">https://wandb.ai/yours/c4ai-adapter-bert</a>"
      ],
      "text/plain": [
       "<IPython.core.display.HTML object>"
      ]
     },
     "metadata": {},
     "output_type": "display_data"
    },
    {
     "data": {
      "text/html": [
       " View run at <a href='https://wandb.ai/yours/c4ai-adapter-bert/runs/53ovxi3a' target=\"_blank\">https://wandb.ai/yours/c4ai-adapter-bert/runs/53ovxi3a</a>"
      ],
      "text/plain": [
       "<IPython.core.display.HTML object>"
      ]
     },
     "metadata": {},
     "output_type": "display_data"
    }
   ],
   "source": [
    "trainer_test=Trainer()"
   ]
  },
  {
   "cell_type": "code",
   "execution_count": 5,
   "metadata": {},
   "outputs": [
    {
     "data": {
      "text/plain": [
       "BCEWithLogitsLoss()"
      ]
     },
     "execution_count": 5,
     "metadata": {},
     "output_type": "execute_result"
    }
   ],
   "source": [
    "trainer_test.loss_fct\n"
   ]
  },
  {
   "cell_type": "code",
   "execution_count": 57,
   "metadata": {},
   "outputs": [
    {
     "data": {
      "text/plain": [
       "['bert_model.embeddings.LayerNorm.weight',\n",
       " 'bert_model.embeddings.LayerNorm.bias',\n",
       " 'bert_model.encoder.layer.0.attention.output.LayerNorm.weight',\n",
       " 'bert_model.encoder.layer.0.attention.output.LayerNorm.bias',\n",
       " 'bert_model.encoder.layer.0.attention.output.adapter_module.linear_down_projection.weight',\n",
       " 'bert_model.encoder.layer.0.attention.output.adapter_module.linear_down_projection.bias',\n",
       " 'bert_model.encoder.layer.0.attention.output.adapter_module.linear_up_projection.weight',\n",
       " 'bert_model.encoder.layer.0.attention.output.adapter_module.linear_up_projection.bias',\n",
       " 'bert_model.encoder.layer.0.output.LayerNorm.weight',\n",
       " 'bert_model.encoder.layer.0.output.LayerNorm.bias',\n",
       " 'bert_model.encoder.layer.0.output.adapter_module.linear_down_projection.weight',\n",
       " 'bert_model.encoder.layer.0.output.adapter_module.linear_down_projection.bias',\n",
       " 'bert_model.encoder.layer.0.output.adapter_module.linear_up_projection.weight',\n",
       " 'bert_model.encoder.layer.0.output.adapter_module.linear_up_projection.bias',\n",
       " 'bert_model.encoder.layer.1.attention.output.LayerNorm.weight',\n",
       " 'bert_model.encoder.layer.1.attention.output.LayerNorm.bias',\n",
       " 'bert_model.encoder.layer.1.attention.output.adapter_module.linear_down_projection.weight',\n",
       " 'bert_model.encoder.layer.1.attention.output.adapter_module.linear_down_projection.bias',\n",
       " 'bert_model.encoder.layer.1.attention.output.adapter_module.linear_up_projection.weight',\n",
       " 'bert_model.encoder.layer.1.attention.output.adapter_module.linear_up_projection.bias',\n",
       " 'bert_model.encoder.layer.1.output.LayerNorm.weight',\n",
       " 'bert_model.encoder.layer.1.output.LayerNorm.bias',\n",
       " 'bert_model.encoder.layer.1.output.adapter_module.linear_down_projection.weight',\n",
       " 'bert_model.encoder.layer.1.output.adapter_module.linear_down_projection.bias',\n",
       " 'bert_model.encoder.layer.1.output.adapter_module.linear_up_projection.weight',\n",
       " 'bert_model.encoder.layer.1.output.adapter_module.linear_up_projection.bias',\n",
       " 'bert_model.encoder.layer.2.attention.output.LayerNorm.weight',\n",
       " 'bert_model.encoder.layer.2.attention.output.LayerNorm.bias',\n",
       " 'bert_model.encoder.layer.2.attention.output.adapter_module.linear_down_projection.weight',\n",
       " 'bert_model.encoder.layer.2.attention.output.adapter_module.linear_down_projection.bias',\n",
       " 'bert_model.encoder.layer.2.attention.output.adapter_module.linear_up_projection.weight',\n",
       " 'bert_model.encoder.layer.2.attention.output.adapter_module.linear_up_projection.bias',\n",
       " 'bert_model.encoder.layer.2.output.LayerNorm.weight',\n",
       " 'bert_model.encoder.layer.2.output.LayerNorm.bias',\n",
       " 'bert_model.encoder.layer.2.output.adapter_module.linear_down_projection.weight',\n",
       " 'bert_model.encoder.layer.2.output.adapter_module.linear_down_projection.bias',\n",
       " 'bert_model.encoder.layer.2.output.adapter_module.linear_up_projection.weight',\n",
       " 'bert_model.encoder.layer.2.output.adapter_module.linear_up_projection.bias',\n",
       " 'bert_model.encoder.layer.3.attention.output.LayerNorm.weight',\n",
       " 'bert_model.encoder.layer.3.attention.output.LayerNorm.bias',\n",
       " 'bert_model.encoder.layer.3.attention.output.adapter_module.linear_down_projection.weight',\n",
       " 'bert_model.encoder.layer.3.attention.output.adapter_module.linear_down_projection.bias',\n",
       " 'bert_model.encoder.layer.3.attention.output.adapter_module.linear_up_projection.weight',\n",
       " 'bert_model.encoder.layer.3.attention.output.adapter_module.linear_up_projection.bias',\n",
       " 'bert_model.encoder.layer.3.output.LayerNorm.weight',\n",
       " 'bert_model.encoder.layer.3.output.LayerNorm.bias',\n",
       " 'bert_model.encoder.layer.3.output.adapter_module.linear_down_projection.weight',\n",
       " 'bert_model.encoder.layer.3.output.adapter_module.linear_down_projection.bias',\n",
       " 'bert_model.encoder.layer.3.output.adapter_module.linear_up_projection.weight',\n",
       " 'bert_model.encoder.layer.3.output.adapter_module.linear_up_projection.bias',\n",
       " 'bert_model.encoder.layer.4.attention.output.LayerNorm.weight',\n",
       " 'bert_model.encoder.layer.4.attention.output.LayerNorm.bias',\n",
       " 'bert_model.encoder.layer.4.attention.output.adapter_module.linear_down_projection.weight',\n",
       " 'bert_model.encoder.layer.4.attention.output.adapter_module.linear_down_projection.bias',\n",
       " 'bert_model.encoder.layer.4.attention.output.adapter_module.linear_up_projection.weight',\n",
       " 'bert_model.encoder.layer.4.attention.output.adapter_module.linear_up_projection.bias',\n",
       " 'bert_model.encoder.layer.4.output.LayerNorm.weight',\n",
       " 'bert_model.encoder.layer.4.output.LayerNorm.bias',\n",
       " 'bert_model.encoder.layer.4.output.adapter_module.linear_down_projection.weight',\n",
       " 'bert_model.encoder.layer.4.output.adapter_module.linear_down_projection.bias',\n",
       " 'bert_model.encoder.layer.4.output.adapter_module.linear_up_projection.weight',\n",
       " 'bert_model.encoder.layer.4.output.adapter_module.linear_up_projection.bias',\n",
       " 'bert_model.encoder.layer.5.attention.output.LayerNorm.weight',\n",
       " 'bert_model.encoder.layer.5.attention.output.LayerNorm.bias',\n",
       " 'bert_model.encoder.layer.5.attention.output.adapter_module.linear_down_projection.weight',\n",
       " 'bert_model.encoder.layer.5.attention.output.adapter_module.linear_down_projection.bias',\n",
       " 'bert_model.encoder.layer.5.attention.output.adapter_module.linear_up_projection.weight',\n",
       " 'bert_model.encoder.layer.5.attention.output.adapter_module.linear_up_projection.bias',\n",
       " 'bert_model.encoder.layer.5.output.LayerNorm.weight',\n",
       " 'bert_model.encoder.layer.5.output.LayerNorm.bias',\n",
       " 'bert_model.encoder.layer.5.output.adapter_module.linear_down_projection.weight',\n",
       " 'bert_model.encoder.layer.5.output.adapter_module.linear_down_projection.bias',\n",
       " 'bert_model.encoder.layer.5.output.adapter_module.linear_up_projection.weight',\n",
       " 'bert_model.encoder.layer.5.output.adapter_module.linear_up_projection.bias',\n",
       " 'bert_model.encoder.layer.6.attention.output.LayerNorm.weight',\n",
       " 'bert_model.encoder.layer.6.attention.output.LayerNorm.bias',\n",
       " 'bert_model.encoder.layer.6.attention.output.adapter_module.linear_down_projection.weight',\n",
       " 'bert_model.encoder.layer.6.attention.output.adapter_module.linear_down_projection.bias',\n",
       " 'bert_model.encoder.layer.6.attention.output.adapter_module.linear_up_projection.weight',\n",
       " 'bert_model.encoder.layer.6.attention.output.adapter_module.linear_up_projection.bias',\n",
       " 'bert_model.encoder.layer.6.output.LayerNorm.weight',\n",
       " 'bert_model.encoder.layer.6.output.LayerNorm.bias',\n",
       " 'bert_model.encoder.layer.6.output.adapter_module.linear_down_projection.weight',\n",
       " 'bert_model.encoder.layer.6.output.adapter_module.linear_down_projection.bias',\n",
       " 'bert_model.encoder.layer.6.output.adapter_module.linear_up_projection.weight',\n",
       " 'bert_model.encoder.layer.6.output.adapter_module.linear_up_projection.bias',\n",
       " 'bert_model.encoder.layer.7.attention.output.LayerNorm.weight',\n",
       " 'bert_model.encoder.layer.7.attention.output.LayerNorm.bias',\n",
       " 'bert_model.encoder.layer.7.attention.output.adapter_module.linear_down_projection.weight',\n",
       " 'bert_model.encoder.layer.7.attention.output.adapter_module.linear_down_projection.bias',\n",
       " 'bert_model.encoder.layer.7.attention.output.adapter_module.linear_up_projection.weight',\n",
       " 'bert_model.encoder.layer.7.attention.output.adapter_module.linear_up_projection.bias',\n",
       " 'bert_model.encoder.layer.7.output.LayerNorm.weight',\n",
       " 'bert_model.encoder.layer.7.output.LayerNorm.bias',\n",
       " 'bert_model.encoder.layer.7.output.adapter_module.linear_down_projection.weight',\n",
       " 'bert_model.encoder.layer.7.output.adapter_module.linear_down_projection.bias',\n",
       " 'bert_model.encoder.layer.7.output.adapter_module.linear_up_projection.weight',\n",
       " 'bert_model.encoder.layer.7.output.adapter_module.linear_up_projection.bias',\n",
       " 'bert_model.encoder.layer.8.attention.output.LayerNorm.weight',\n",
       " 'bert_model.encoder.layer.8.attention.output.LayerNorm.bias',\n",
       " 'bert_model.encoder.layer.8.attention.output.adapter_module.linear_down_projection.weight',\n",
       " 'bert_model.encoder.layer.8.attention.output.adapter_module.linear_down_projection.bias',\n",
       " 'bert_model.encoder.layer.8.attention.output.adapter_module.linear_up_projection.weight',\n",
       " 'bert_model.encoder.layer.8.attention.output.adapter_module.linear_up_projection.bias',\n",
       " 'bert_model.encoder.layer.8.output.LayerNorm.weight',\n",
       " 'bert_model.encoder.layer.8.output.LayerNorm.bias',\n",
       " 'bert_model.encoder.layer.8.output.adapter_module.linear_down_projection.weight',\n",
       " 'bert_model.encoder.layer.8.output.adapter_module.linear_down_projection.bias',\n",
       " 'bert_model.encoder.layer.8.output.adapter_module.linear_up_projection.weight',\n",
       " 'bert_model.encoder.layer.8.output.adapter_module.linear_up_projection.bias',\n",
       " 'bert_model.encoder.layer.9.attention.output.LayerNorm.weight',\n",
       " 'bert_model.encoder.layer.9.attention.output.LayerNorm.bias',\n",
       " 'bert_model.encoder.layer.9.attention.output.adapter_module.linear_down_projection.weight',\n",
       " 'bert_model.encoder.layer.9.attention.output.adapter_module.linear_down_projection.bias',\n",
       " 'bert_model.encoder.layer.9.attention.output.adapter_module.linear_up_projection.weight',\n",
       " 'bert_model.encoder.layer.9.attention.output.adapter_module.linear_up_projection.bias',\n",
       " 'bert_model.encoder.layer.9.output.LayerNorm.weight',\n",
       " 'bert_model.encoder.layer.9.output.LayerNorm.bias',\n",
       " 'bert_model.encoder.layer.9.output.adapter_module.linear_down_projection.weight',\n",
       " 'bert_model.encoder.layer.9.output.adapter_module.linear_down_projection.bias',\n",
       " 'bert_model.encoder.layer.9.output.adapter_module.linear_up_projection.weight',\n",
       " 'bert_model.encoder.layer.9.output.adapter_module.linear_up_projection.bias',\n",
       " 'bert_model.encoder.layer.10.attention.output.LayerNorm.weight',\n",
       " 'bert_model.encoder.layer.10.attention.output.LayerNorm.bias',\n",
       " 'bert_model.encoder.layer.10.attention.output.adapter_module.linear_down_projection.weight',\n",
       " 'bert_model.encoder.layer.10.attention.output.adapter_module.linear_down_projection.bias',\n",
       " 'bert_model.encoder.layer.10.attention.output.adapter_module.linear_up_projection.weight',\n",
       " 'bert_model.encoder.layer.10.attention.output.adapter_module.linear_up_projection.bias',\n",
       " 'bert_model.encoder.layer.10.output.LayerNorm.weight',\n",
       " 'bert_model.encoder.layer.10.output.LayerNorm.bias',\n",
       " 'bert_model.encoder.layer.10.output.adapter_module.linear_down_projection.weight',\n",
       " 'bert_model.encoder.layer.10.output.adapter_module.linear_down_projection.bias',\n",
       " 'bert_model.encoder.layer.10.output.adapter_module.linear_up_projection.weight',\n",
       " 'bert_model.encoder.layer.10.output.adapter_module.linear_up_projection.bias',\n",
       " 'bert_model.encoder.layer.11.attention.output.LayerNorm.weight',\n",
       " 'bert_model.encoder.layer.11.attention.output.LayerNorm.bias',\n",
       " 'bert_model.encoder.layer.11.attention.output.adapter_module.linear_down_projection.weight',\n",
       " 'bert_model.encoder.layer.11.attention.output.adapter_module.linear_down_projection.bias',\n",
       " 'bert_model.encoder.layer.11.attention.output.adapter_module.linear_up_projection.weight',\n",
       " 'bert_model.encoder.layer.11.attention.output.adapter_module.linear_up_projection.bias',\n",
       " 'bert_model.encoder.layer.11.output.LayerNorm.weight',\n",
       " 'bert_model.encoder.layer.11.output.LayerNorm.bias',\n",
       " 'bert_model.encoder.layer.11.output.adapter_module.linear_down_projection.weight',\n",
       " 'bert_model.encoder.layer.11.output.adapter_module.linear_down_projection.bias',\n",
       " 'bert_model.encoder.layer.11.output.adapter_module.linear_up_projection.weight',\n",
       " 'bert_model.encoder.layer.11.output.adapter_module.linear_up_projection.bias']"
      ]
     },
     "execution_count": 57,
     "metadata": {},
     "output_type": "execute_result"
    }
   ],
   "source": [
    "# Since, we want to optimize only parameters of the adapter modules and layer normalization\n",
    "l=[\"adapter\", \"LayerNorm\"]\n",
    "[n for n, p in trainer_test.model.named_parameters() if any([(nd in n) for nd in l])]\n"
   ]
  },
  {
   "cell_type": "code",
   "execution_count": 61,
   "metadata": {},
   "outputs": [
    {
     "name": "stdout",
     "output_type": "stream",
     "text": [
      "torch.Size([32])\n",
      "torch.float32\n"
     ]
    }
   ],
   "source": [
    "for b in trainer_test.train_dataloader:\n",
    "    #test_model=BertClassifier(1)\n",
    "    # test_model(b['input_ids'])\n",
    "    #print(b['input_ids'].squeeze(1).shape)\n",
    "    #print(b['acceptibility'].shape)\n",
    "    print(b['acceptibility'].shape)\n",
    "    print(trainer_test.model(b['input_ids'].squeeze(1)).dtype)\n",
    "    #print(b['input_ids'].shape)\n",
    "    break"
   ]
  },
  {
   "cell_type": "code",
   "execution_count": null,
   "metadata": {},
   "outputs": [],
   "source": []
  }
 ],
 "metadata": {
  "kernelspec": {
   "display_name": "adapter_b",
   "language": "python",
   "name": "python3"
  },
  "language_info": {
   "codemirror_mode": {
    "name": "ipython",
    "version": 3
   },
   "file_extension": ".py",
   "mimetype": "text/x-python",
   "name": "python",
   "nbconvert_exporter": "python",
   "pygments_lexer": "ipython3",
   "version": "3.10.9"
  },
  "orig_nbformat": 4,
  "vscode": {
   "interpreter": {
    "hash": "07b30684b0ecb5a8a37c64c862a30fd14a6effd1391acff51ec95d1467e8490e"
   }
  }
 },
 "nbformat": 4,
 "nbformat_minor": 2
}
